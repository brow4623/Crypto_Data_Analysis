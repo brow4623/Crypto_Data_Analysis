{
 "cells": [
  {
   "cell_type": "code",
   "execution_count": 28,
   "id": "e6953d8e-cfc1-4ad4-acaf-a3188cac8c18",
   "metadata": {},
   "outputs": [],
   "source": [
    "# Import Coin Gecko Library\n",
    "from pycoingecko import CoinGeckoAPI\n",
    "import pandas as pd"
   ]
  },
  {
   "cell_type": "code",
   "execution_count": 29,
   "id": "8fc6683a-c21c-4fa6-a7f3-ec72221d1e08",
   "metadata": {},
   "outputs": [],
   "source": [
    "# initilize client\n",
    "client = CoinGeckoAPI()"
   ]
  },
  {
   "cell_type": "code",
   "execution_count": 30,
   "id": "c09afd5a-7bb0-48e2-af89-65dc2a237ac1",
   "metadata": {},
   "outputs": [
    {
     "data": {
      "text/plain": [
       "{'gecko_says': '(V3) To the Moon!'}"
      ]
     },
     "execution_count": 30,
     "metadata": {},
     "output_type": "execute_result"
    }
   ],
   "source": [
    "# Check API\n",
    "client.ping()"
   ]
  },
  {
   "cell_type": "code",
   "execution_count": 31,
   "id": "79952b1f-e0be-4bb6-8016-bafb0b173be9",
   "metadata": {},
   "outputs": [],
   "source": [
    "# make helper functions to change unix time to human time (Coin gecko's data starts in unix time which is unreadable)\n",
    "import datetime\n",
    "import time\n",
    "\n",
    "def unix_time(year, month, day, hour, second):\n",
    "    date_time = datetime.datetime(year, month, day, hour, second)\n",
    "    return time.mktime(date_time.timetuple())\n",
    "\n",
    "def human_time(unix_time):\n",
    "    return datetime.datetime.fromtimestamp(unix_time)"
   ]
  },
  {
   "cell_type": "code",
   "execution_count": 32,
   "id": "65b2debc-8310-4b34-94e1-06639746e297",
   "metadata": {},
   "outputs": [],
   "source": [
    "# Pick start and end Dates: Five Years from Jan 1, 2018 - Jan 1, 2023\n",
    "start = unix_time(2018, 1, 1, 0, 0)\n",
    "end = unix_time(2023, 1, 1, 0, 0)"
   ]
  },
  {
   "cell_type": "code",
   "execution_count": 35,
   "id": "cc24063b-5d9c-4dea-887a-ccd2299f196b",
   "metadata": {},
   "outputs": [
    {
     "name": "stdin",
     "output_type": "stream",
     "text": [
      "What coin do you want Bitcoin\n"
     ]
    }
   ],
   "source": [
    "question1 = input(\"What coin do you want\")"
   ]
  },
  {
   "cell_type": "code",
   "execution_count": 36,
   "id": "ac32a6a0-5418-4890-99e2-f3ad2a670ae4",
   "metadata": {},
   "outputs": [],
   "source": [
    "question1 = question1.lower()"
   ]
  },
  {
   "cell_type": "code",
   "execution_count": 37,
   "id": "1ccae1b1-e782-45df-8ff4-43359ada91f9",
   "metadata": {},
   "outputs": [],
   "source": [
    "# Pull data from API\n",
    "btc = client.get_coin_market_chart_range_by_id(\n",
    "    id = question1,\n",
    "    vs_currency = 'usd',\n",
    "    from_timestamp=start,\n",
    "    to_timestamp=end\n",
    ")"
   ]
  },
  {
   "cell_type": "code",
   "execution_count": 38,
   "id": "56da3be3-eac7-4d4c-8388-f63ee3265d26",
   "metadata": {},
   "outputs": [],
   "source": [
    "test = (btc['prices'][1][0])"
   ]
  },
  {
   "cell_type": "code",
   "execution_count": 39,
   "id": "e3973e6d-d4ef-4274-b7dd-43a8beb9c9b5",
   "metadata": {},
   "outputs": [
    {
     "data": {
      "text/plain": [
       "1514937600000"
      ]
     },
     "execution_count": 39,
     "metadata": {},
     "output_type": "execute_result"
    }
   ],
   "source": [
    "test"
   ]
  },
  {
   "cell_type": "code",
   "execution_count": 40,
   "id": "d8a19e56-d0db-42ee-bb30-b45c9c2b1fcc",
   "metadata": {},
   "outputs": [],
   "source": [
    "#unixToDatetime = datetime.datetime.fromtimestamp(test) # Unix Time\n",
    "#print(unixToDatetime)"
   ]
  },
  {
   "cell_type": "code",
   "execution_count": 44,
   "id": "e34323a6-5c10-486a-a811-5ccb99e9274a",
   "metadata": {},
   "outputs": [],
   "source": [
    "new = pd.DataFrame.from_dict(btc)"
   ]
  },
  {
   "cell_type": "code",
   "execution_count": 42,
   "id": "ea0d0093-e05a-400d-9d99-1d13dbb4ea46",
   "metadata": {},
   "outputs": [
    {
     "data": {
      "text/plain": [
       "1514851200000"
      ]
     },
     "execution_count": 43,
     "metadata": {},
     "output_type": "execute_result"
    }
   ],
   "source": [
    "new['prices'][0][0]"
   ]
  },
  {
   "cell_type": "code",
   "execution_count": 55,
   "id": "187139cb-97f7-4c8d-b327-a80efb6e5a7d",
   "metadata": {},
   "outputs": [],
   "source": [
    "new['date'] = new['prices'][0][0]"
   ]
  },
  {
   "cell_type": "code",
   "execution_count": 48,
   "id": "b6b195a5-ac67-4502-9594-36125fe60a1a",
   "metadata": {},
   "outputs": [
    {
     "data": {
      "text/html": [
       "<div>\n",
       "<style scoped>\n",
       "    .dataframe tbody tr th:only-of-type {\n",
       "        vertical-align: middle;\n",
       "    }\n",
       "\n",
       "    .dataframe tbody tr th {\n",
       "        vertical-align: top;\n",
       "    }\n",
       "\n",
       "    .dataframe thead th {\n",
       "        text-align: right;\n",
       "    }\n",
       "</style>\n",
       "<table border=\"1\" class=\"dataframe\">\n",
       "  <thead>\n",
       "    <tr style=\"text-align: right;\">\n",
       "      <th></th>\n",
       "      <th>prices</th>\n",
       "      <th>market_caps</th>\n",
       "      <th>total_volumes</th>\n",
       "      <th>date</th>\n",
       "    </tr>\n",
       "  </thead>\n",
       "  <tbody>\n",
       "    <tr>\n",
       "      <th>0</th>\n",
       "      <td>[1514851200000, 15321.9328517642]</td>\n",
       "      <td>[1514851200000, 257079617264.841]</td>\n",
       "      <td>[1514851200000, 4130217904.20997]</td>\n",
       "      <td>1514851200000</td>\n",
       "    </tr>\n",
       "    <tr>\n",
       "      <th>1</th>\n",
       "      <td>[1514937600000, 15583.8855377593]</td>\n",
       "      <td>[1514937600000, 261505188675.85794]</td>\n",
       "      <td>[1514937600000, 3310355625.1255913]</td>\n",
       "      <td>1514851200000</td>\n",
       "    </tr>\n",
       "    <tr>\n",
       "      <th>2</th>\n",
       "      <td>[1515024000000, 15976.365194174]</td>\n",
       "      <td>[1515024000000, 268124738814.99704]</td>\n",
       "      <td>[1515024000000, 4217387187.5256386]</td>\n",
       "      <td>1514851200000</td>\n",
       "    </tr>\n",
       "    <tr>\n",
       "      <th>3</th>\n",
       "      <td>[1515110400000, 18336.9229801691]</td>\n",
       "      <td>[1515110400000, 307774011688.3515]</td>\n",
       "      <td>[1515110400000, 6275687595.940333]</td>\n",
       "      <td>1514851200000</td>\n",
       "    </tr>\n",
       "    <tr>\n",
       "      <th>4</th>\n",
       "      <td>[1515196800000, 18343.6624934071]</td>\n",
       "      <td>[1515196800000, 307926110569.5282]</td>\n",
       "      <td>[1515196800000, 4240919830.5153003]</td>\n",
       "      <td>1514851200000</td>\n",
       "    </tr>\n",
       "    <tr>\n",
       "      <th>...</th>\n",
       "      <td>...</td>\n",
       "      <td>...</td>\n",
       "      <td>...</td>\n",
       "      <td>...</td>\n",
       "    </tr>\n",
       "    <tr>\n",
       "      <th>1821</th>\n",
       "      <td>[1672185600000, 16701.840210667935]</td>\n",
       "      <td>[1672185600000, 321351469136.8621]</td>\n",
       "      <td>[1672185600000, 17436062121.5136]</td>\n",
       "      <td>1514851200000</td>\n",
       "    </tr>\n",
       "    <tr>\n",
       "      <th>1822</th>\n",
       "      <td>[1672272000000, 16538.906094001977]</td>\n",
       "      <td>[1672272000000, 318288869204.81464]</td>\n",
       "      <td>[1672272000000, 19113614755.874695]</td>\n",
       "      <td>1514851200000</td>\n",
       "    </tr>\n",
       "    <tr>\n",
       "      <th>1823</th>\n",
       "      <td>[1672358400000, 16644.379087037905]</td>\n",
       "      <td>[1672358400000, 320297298175.87695]</td>\n",
       "      <td>[1672358400000, 15683731676.998154]</td>\n",
       "      <td>1514851200000</td>\n",
       "    </tr>\n",
       "    <tr>\n",
       "      <th>1824</th>\n",
       "      <td>[1672444800000, 16604.020520373393]</td>\n",
       "      <td>[1672444800000, 319722045805.09534]</td>\n",
       "      <td>[1672444800000, 17497327983.349342]</td>\n",
       "      <td>1514851200000</td>\n",
       "    </tr>\n",
       "    <tr>\n",
       "      <th>1825</th>\n",
       "      <td>[1672531200000, 16540.693624776803]</td>\n",
       "      <td>[1672531200000, 318278329991.7019]</td>\n",
       "      <td>[1672531200000, 12013247678.029587]</td>\n",
       "      <td>1514851200000</td>\n",
       "    </tr>\n",
       "  </tbody>\n",
       "</table>\n",
       "<p>1826 rows × 4 columns</p>\n",
       "</div>"
      ],
      "text/plain": [
       "                                   prices  \\\n",
       "0       [1514851200000, 15321.9328517642]   \n",
       "1       [1514937600000, 15583.8855377593]   \n",
       "2        [1515024000000, 15976.365194174]   \n",
       "3       [1515110400000, 18336.9229801691]   \n",
       "4       [1515196800000, 18343.6624934071]   \n",
       "...                                   ...   \n",
       "1821  [1672185600000, 16701.840210667935]   \n",
       "1822  [1672272000000, 16538.906094001977]   \n",
       "1823  [1672358400000, 16644.379087037905]   \n",
       "1824  [1672444800000, 16604.020520373393]   \n",
       "1825  [1672531200000, 16540.693624776803]   \n",
       "\n",
       "                              market_caps  \\\n",
       "0       [1514851200000, 257079617264.841]   \n",
       "1     [1514937600000, 261505188675.85794]   \n",
       "2     [1515024000000, 268124738814.99704]   \n",
       "3      [1515110400000, 307774011688.3515]   \n",
       "4      [1515196800000, 307926110569.5282]   \n",
       "...                                   ...   \n",
       "1821   [1672185600000, 321351469136.8621]   \n",
       "1822  [1672272000000, 318288869204.81464]   \n",
       "1823  [1672358400000, 320297298175.87695]   \n",
       "1824  [1672444800000, 319722045805.09534]   \n",
       "1825   [1672531200000, 318278329991.7019]   \n",
       "\n",
       "                            total_volumes           date  \n",
       "0       [1514851200000, 4130217904.20997]  1514851200000  \n",
       "1     [1514937600000, 3310355625.1255913]  1514851200000  \n",
       "2     [1515024000000, 4217387187.5256386]  1514851200000  \n",
       "3      [1515110400000, 6275687595.940333]  1514851200000  \n",
       "4     [1515196800000, 4240919830.5153003]  1514851200000  \n",
       "...                                   ...            ...  \n",
       "1821    [1672185600000, 17436062121.5136]  1514851200000  \n",
       "1822  [1672272000000, 19113614755.874695]  1514851200000  \n",
       "1823  [1672358400000, 15683731676.998154]  1514851200000  \n",
       "1824  [1672444800000, 17497327983.349342]  1514851200000  \n",
       "1825  [1672531200000, 12013247678.029587]  1514851200000  \n",
       "\n",
       "[1826 rows x 4 columns]"
      ]
     },
     "execution_count": 48,
     "metadata": {},
     "output_type": "execute_result"
    }
   ],
   "source": [
    "new"
   ]
  },
  {
   "cell_type": "code",
   "execution_count": 62,
   "id": "0fa4270b-d7e0-43c6-a490-ba7a38449e8b",
   "metadata": {},
   "outputs": [
    {
     "data": {
      "text/plain": [
       "[1514851200000, 15321.9328517642]"
      ]
     },
     "execution_count": 62,
     "metadata": {},
     "output_type": "execute_result"
    }
   ],
   "source": [
    "new['prices'].iloc[0]"
   ]
  }
 ],
 "metadata": {
  "kernelspec": {
   "display_name": "Python 3 (ipykernel)",
   "language": "python",
   "name": "python3"
  },
  "language_info": {
   "codemirror_mode": {
    "name": "ipython",
    "version": 3
   },
   "file_extension": ".py",
   "mimetype": "text/x-python",
   "name": "python",
   "nbconvert_exporter": "python",
   "pygments_lexer": "ipython3",
   "version": "3.7.15"
  }
 },
 "nbformat": 4,
 "nbformat_minor": 5
}
