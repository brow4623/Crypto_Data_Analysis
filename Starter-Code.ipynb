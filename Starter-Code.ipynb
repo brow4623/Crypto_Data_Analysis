{
 "cells": [
  {
   "cell_type": "code",
   "execution_count": 2,
   "id": "e6953d8e-cfc1-4ad4-acaf-a3188cac8c18",
   "metadata": {},
   "outputs": [],
   "source": [
    "# Import Coin Gecko Library\n",
    "from pycoingecko import CoinGeckoAPI"
   ]
  },
  {
   "cell_type": "code",
   "execution_count": 3,
   "id": "8fc6683a-c21c-4fa6-a7f3-ec72221d1e08",
   "metadata": {},
   "outputs": [],
   "source": [
    "# initilize client\n",
    "client = CoinGeckoAPI()"
   ]
  },
  {
   "cell_type": "code",
   "execution_count": 4,
   "id": "c09afd5a-7bb0-48e2-af89-65dc2a237ac1",
   "metadata": {},
   "outputs": [
    {
     "data": {
      "text/plain": [
       "{'gecko_says': '(V3) To the Moon!'}"
      ]
     },
     "execution_count": 4,
     "metadata": {},
     "output_type": "execute_result"
    }
   ],
   "source": [
    "# Check API\n",
    "client.ping()"
   ]
  },
  {
   "cell_type": "code",
   "execution_count": 5,
   "id": "79952b1f-e0be-4bb6-8016-bafb0b173be9",
   "metadata": {},
   "outputs": [],
   "source": [
    "# make helper functions to change unix time to human time (Coin gecko's data starts in unix time which is unreadable)\n",
    "import datetime\n",
    "import time\n",
    "\n",
    "def unix_time(year, month, day, hour, second):\n",
    "    date_time = datetime.datetime(year, month, day, hour, second)\n",
    "    return time.mktime(date_time.timetuple())\n",
    "\n",
    "def human_time(unix_time):\n",
    "    return datetime.datetime.fromtimestamp(unix_time)"
   ]
  },
  {
   "cell_type": "code",
   "execution_count": 6,
   "id": "65b2debc-8310-4b34-94e1-06639746e297",
   "metadata": {},
   "outputs": [],
   "source": [
    "# Pick start and end Dates: Five Years from Jan 1, 2018 - Jan 1, 2023\n",
    "start = unix_time(2018, 1, 1, 0, 0)\n",
    "end = unix_time(2023, 1, 1, 0, 0)"
   ]
  },
  {
   "cell_type": "code",
   "execution_count": null,
   "id": "1ccae1b1-e782-45df-8ff4-43359ada91f9",
   "metadata": {},
   "outputs": [],
   "source": []
  }
 ],
 "metadata": {
  "kernelspec": {
   "display_name": "Python 3 (ipykernel)",
   "language": "python",
   "name": "python3"
  },
  "language_info": {
   "codemirror_mode": {
    "name": "ipython",
    "version": 3
   },
   "file_extension": ".py",
   "mimetype": "text/x-python",
   "name": "python",
   "nbconvert_exporter": "python",
   "pygments_lexer": "ipython3",
   "version": "3.7.15"
  }
 },
 "nbformat": 4,
 "nbformat_minor": 5
}
