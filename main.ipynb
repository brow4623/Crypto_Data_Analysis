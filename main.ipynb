{
 "cells": [
  {
   "cell_type": "code",
   "execution_count": 5,
   "id": "f3fabcda-2db5-4402-8500-dde19fce1712",
   "metadata": {},
   "outputs": [],
   "source": [
    "from functions import *"
   ]
  },
  {
   "cell_type": "code",
   "execution_count": 6,
   "id": "b1c5144a-352c-4a49-bbab-1a7c75153fa6",
   "metadata": {},
   "outputs": [],
   "source": [
    "def main():\n",
    "    # Getting input for specific coins/ dates\n",
    "    query = input(\"What analysis results would you like? options: monte carlo, sharpe ratio, correlation\")\n",
    "    \n",
    "    if query == \"monte carlo\":\n",
    "        monte_carlo()\n",
    "        monte_carlo2()\n",
    "\n",
    "    elif query == \"sharpe ratio\":\n",
    "        sharpe_ratio()"
   ]
  },
  {
   "cell_type": "code",
   "execution_count": null,
   "id": "75093690-38d3-424f-82bf-a70853de2f34",
   "metadata": {},
   "outputs": [],
   "source": []
  }
 ],
 "metadata": {
  "kernelspec": {
   "display_name": "Python 3 (ipykernel)",
   "language": "python",
   "name": "python3"
  },
  "language_info": {
   "codemirror_mode": {
    "name": "ipython",
    "version": 3
   },
   "file_extension": ".py",
   "mimetype": "text/x-python",
   "name": "python",
   "nbconvert_exporter": "python",
   "pygments_lexer": "ipython3",
   "version": "3.7.15"
  }
 },
 "nbformat": 4,
 "nbformat_minor": 5
}
