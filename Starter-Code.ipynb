{
 "cells": [
  {
   "cell_type": "code",
   "execution_count": 35,
   "id": "e6953d8e-cfc1-4ad4-acaf-a3188cac8c18",
   "metadata": {},
   "outputs": [],
   "source": [
    "# Import Coin Gecko Library\n",
    "from pycoingecko import CoinGeckoAPI"
   ]
  },
  {
   "cell_type": "code",
   "execution_count": 36,
   "id": "8fc6683a-c21c-4fa6-a7f3-ec72221d1e08",
   "metadata": {},
   "outputs": [],
   "source": [
    "# initilize client\n",
    "client = CoinGeckoAPI()"
   ]
  },
  {
   "cell_type": "code",
   "execution_count": 37,
   "id": "c09afd5a-7bb0-48e2-af89-65dc2a237ac1",
   "metadata": {},
   "outputs": [
    {
     "data": {
      "text/plain": [
       "{'gecko_says': '(V3) To the Moon!'}"
      ]
     },
     "execution_count": 37,
     "metadata": {},
     "output_type": "execute_result"
    }
   ],
   "source": [
    "# Check API\n",
    "client.ping()"
   ]
  },
  {
   "cell_type": "code",
   "execution_count": 38,
   "id": "79952b1f-e0be-4bb6-8016-bafb0b173be9",
   "metadata": {},
   "outputs": [],
   "source": [
    "# make helper functions to change unix time to human time (Coin gecko's data starts in unix time which is unreadable)\n",
    "import datetime\n",
    "import time\n",
    "\n",
    "def unix_time(year, month, day, hour, second):\n",
    "    date_time = datetime.datetime(year, month, day, hour, second)\n",
    "    return time.mktime(date_time.timetuple())\n",
    "\n",
    "def human_time(unix_time):\n",
    "    return datetime.datetime.fromtimestamp(unix_time)"
   ]
  },
  {
   "cell_type": "code",
   "execution_count": 39,
   "id": "65b2debc-8310-4b34-94e1-06639746e297",
   "metadata": {},
   "outputs": [],
   "source": [
    "# Pick start and end Dates: Five Years from Jan 1, 2018 - Jan 1, 2023\n",
    "start = unix_time(2018, 1, 1, 0, 0)\n",
    "end = unix_time(2023, 1, 1, 0, 0)"
   ]
  },
  {
   "cell_type": "code",
   "execution_count": 40,
   "id": "cc24063b-5d9c-4dea-887a-ccd2299f196b",
   "metadata": {},
   "outputs": [
    {
     "name": "stdin",
     "output_type": "stream",
     "text": [
      "What coin do you want DogeCoin\n"
     ]
    }
   ],
   "source": [
    "question1 = input(\"What coin do you want\")"
   ]
  },
  {
   "cell_type": "code",
   "execution_count": 41,
   "id": "ac32a6a0-5418-4890-99e2-f3ad2a670ae4",
   "metadata": {},
   "outputs": [],
   "source": [
    "question1 = question1.lower()"
   ]
  },
  {
   "cell_type": "code",
   "execution_count": 56,
   "id": "1ccae1b1-e782-45df-8ff4-43359ada91f9",
   "metadata": {},
   "outputs": [],
   "source": [
    "# Pull data from API\n",
    "btc = client.get_coin_market_chart_range_by_id(\n",
    "    id = question1,\n",
    "    vs_currency = 'usd',\n",
    "    from_timestamp=start,\n",
    "    to_timestamp=end\n",
    ")"
   ]
  },
  {
   "cell_type": "code",
   "execution_count": 57,
   "id": "cc0655b3-e9f6-4c73-be56-2faa5f50684c",
   "metadata": {},
   "outputs": [
    {
     "ename": "AttributeError",
     "evalue": "'dict' object has no attribute 'json'",
     "output_type": "error",
     "traceback": [
      "\u001b[1;31m---------------------------------------------------------------------------\u001b[0m",
      "\u001b[1;31mAttributeError\u001b[0m                            Traceback (most recent call last)",
      "\u001b[1;32m~\\AppData\\Local\\Temp\\ipykernel_13544\\1619257305.py\u001b[0m in \u001b[0;36m<module>\u001b[1;34m\u001b[0m\n\u001b[0;32m      1\u001b[0m \u001b[1;32mimport\u001b[0m \u001b[0mjson\u001b[0m\u001b[1;33m\u001b[0m\u001b[1;33m\u001b[0m\u001b[0m\n\u001b[1;32m----> 2\u001b[1;33m \u001b[0mbtc_table\u001b[0m \u001b[1;33m=\u001b[0m \u001b[0mbtc\u001b[0m\u001b[1;33m.\u001b[0m\u001b[0mjson\u001b[0m\u001b[1;33m\u001b[0m\u001b[1;33m\u001b[0m\u001b[0m\n\u001b[0m",
      "\u001b[1;31mAttributeError\u001b[0m: 'dict' object has no attribute 'json'"
     ]
    }
   ],
   "source": [
    "import json\n",
    "btc_table = btc.json"
   ]
  },
  {
   "cell_type": "code",
   "execution_count": 54,
   "id": "6d7eebfd-b528-4cdb-a13e-2306cec78835",
   "metadata": {},
   "outputs": [
    {
     "ename": "TypeError",
     "evalue": "an integer is required (got type list)",
     "output_type": "error",
     "traceback": [
      "\u001b[1;31m---------------------------------------------------------------------------\u001b[0m",
      "\u001b[1;31mTypeError\u001b[0m                                 Traceback (most recent call last)",
      "\u001b[1;32m~\\AppData\\Local\\Temp\\ipykernel_13544\\3819875638.py\u001b[0m in \u001b[0;36m<module>\u001b[1;34m\u001b[0m\n\u001b[1;32m----> 1\u001b[1;33m \u001b[0mhuman_time\u001b[0m\u001b[1;33m(\u001b[0m\u001b[0mbtc\u001b[0m\u001b[1;33m[\u001b[0m\u001b[1;34m'prices'\u001b[0m\u001b[1;33m]\u001b[0m\u001b[1;33m[\u001b[0m\u001b[1;36m0\u001b[0m\u001b[1;33m]\u001b[0m\u001b[1;33m)\u001b[0m\u001b[1;33m\u001b[0m\u001b[1;33m\u001b[0m\u001b[0m\n\u001b[0m",
      "\u001b[1;32m~\\AppData\\Local\\Temp\\ipykernel_13544\\4114775768.py\u001b[0m in \u001b[0;36mhuman_time\u001b[1;34m(unix_time)\u001b[0m\n\u001b[0;32m      8\u001b[0m \u001b[1;33m\u001b[0m\u001b[0m\n\u001b[0;32m      9\u001b[0m \u001b[1;32mdef\u001b[0m \u001b[0mhuman_time\u001b[0m\u001b[1;33m(\u001b[0m\u001b[0munix_time\u001b[0m\u001b[1;33m)\u001b[0m\u001b[1;33m:\u001b[0m\u001b[1;33m\u001b[0m\u001b[1;33m\u001b[0m\u001b[0m\n\u001b[1;32m---> 10\u001b[1;33m     \u001b[1;32mreturn\u001b[0m \u001b[0mdatetime\u001b[0m\u001b[1;33m.\u001b[0m\u001b[0mdatetime\u001b[0m\u001b[1;33m.\u001b[0m\u001b[0mfromtimestamp\u001b[0m\u001b[1;33m(\u001b[0m\u001b[0munix_time\u001b[0m\u001b[1;33m)\u001b[0m\u001b[1;33m\u001b[0m\u001b[1;33m\u001b[0m\u001b[0m\n\u001b[0m",
      "\u001b[1;31mTypeError\u001b[0m: an integer is required (got type list)"
     ]
    }
   ],
   "source": [
    "human_time(btc['prices'][0])"
   ]
  },
  {
   "cell_type": "code",
   "execution_count": null,
   "id": "b2516b2f-80ba-4301-b3be-ce54b35d949f",
   "metadata": {},
   "outputs": [],
   "source": []
  }
 ],
 "metadata": {
  "kernelspec": {
   "display_name": "Python 3 (ipykernel)",
   "language": "python",
   "name": "python3"
  },
  "language_info": {
   "codemirror_mode": {
    "name": "ipython",
    "version": 3
   },
   "file_extension": ".py",
   "mimetype": "text/x-python",
   "name": "python",
   "nbconvert_exporter": "python",
   "pygments_lexer": "ipython3",
   "version": "3.7.15"
  }
 },
 "nbformat": 4,
 "nbformat_minor": 5
}
