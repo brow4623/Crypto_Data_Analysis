{
 "cells": [
  {
   "cell_type": "code",
   "execution_count": 3,
   "id": "f3fabcda-2db5-4402-8500-dde19fce1712",
   "metadata": {},
   "outputs": [],
   "source": [
    "from function import *"
   ]
  },
  {
   "cell_type": "code",
   "execution_count": 4,
   "id": "b1c5144a-352c-4a49-bbab-1a7c75153fa6",
   "metadata": {},
   "outputs": [],
   "source": [
    "def main():\n",
    "    # Getting input for specific coins/ dates\n",
    "    query = input(\"What analysis results would you like? options: monte carlo, sharpe ratio, correlation, everything\")\n",
    "    \n",
    "    if query == \"monte carlo\":\n",
    "        monte_carlo()\n",
    "        monte_carlo2()\n",
    "    elif query == \"sharpe ratio\":\n",
    "        sharpe_ratio()\n",
    "    elif query == \"heatmap\":\n",
    "        heatmap()\n",
    "    elif query == \"everything\":\n",
    "        calc_exchange_ratio()\n",
    "        graph_trading_volumes()\n",
    "        graph_market_cap()\n",
    "        "
   ]
  }
 ],
 "metadata": {
  "kernelspec": {
   "display_name": "Python 3 (ipykernel)",
   "language": "python",
   "name": "python3"
  },
  "language_info": {
   "codemirror_mode": {
    "name": "ipython",
    "version": 3
   },
   "file_extension": ".py",
   "mimetype": "text/x-python",
   "name": "python",
   "nbconvert_exporter": "python",
   "pygments_lexer": "ipython3",
   "version": "3.7.15"
  }
 },
 "nbformat": 4,
 "nbformat_minor": 5
}
