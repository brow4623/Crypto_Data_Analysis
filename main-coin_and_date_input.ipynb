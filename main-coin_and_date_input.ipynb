{
 "cells": [
  {
   "cell_type": "code",
   "execution_count": 1,
   "id": "bdd0c4d8-4952-421b-9148-5c05c76a81b6",
   "metadata": {},
   "outputs": [
    {
     "data": {
      "text/plain": [
       "{'gecko_says': '(V3) To the Moon!'}"
      ]
     },
     "execution_count": 1,
     "metadata": {},
     "output_type": "execute_result"
    }
   ],
   "source": [
    "# Imports\n",
    "from pycoingecko import CoinGeckoAPI\n",
    "import pandas as pd\n",
    "import datetime\n",
    "import time\n",
    "# initilize client\n",
    "client = CoinGeckoAPI()\n",
    "client.ping()"
   ]
  },
  {
   "cell_type": "code",
   "execution_count": 2,
   "id": "34fa440c-9e99-4099-abd9-d3890a718ab3",
   "metadata": {},
   "outputs": [],
   "source": [
    "def unix_time(year, month, day, hour, second):\n",
    "    date_time = datetime.datetime(year, month, day, hour, second)\n",
    "    return time.mktime(date_time.timetuple())\n",
    "\n",
    "\n",
    "def input_start_date():\n",
    "    start_year = input(\"What is the year of the starting date you wish to analyze?\")\n",
    "    start_month =  input(\"What is the month of the starting date you wish to analyze?\")\n",
    "    start_day =input(\"What is the day of the starting date you wish to analyze?\")\n",
    "    \n",
    "    start = unix_time(int(start_year),int(start_month),int(start_day),0,0)\n",
    "    # start = int(start)\n",
    "    print(start)\n",
    "    return start\n",
    "    \n",
    "def input_end_date():\n",
    "    end_year = input(\"What is the year of the end date you wish to analyze?\")\n",
    "    end_month = input(\"What is the day of the end date you wish to analyze?\")\n",
    "    end_day = input(\"What is the year of the end date you wish to analyze?\")\n",
    "\n",
    "    end =  unix_time(int(end_year),int(end_month),int(end_day),0,0)\n",
    "    # end = int(end)\n",
    "    print(end)\n",
    "    return end\n",
    "    \n",
    "    "
   ]
  },
  {
   "cell_type": "code",
   "execution_count": 3,
   "id": "5ebf3b8e-d14a-4a4b-9665-8acfa18b7363",
   "metadata": {},
   "outputs": [],
   "source": [
    "def main():\n",
    "    # Helper Functions\n",
    "    def unix_time(year, month, day, hour, second):\n",
    "        date_time = datetime.datetime(year, month, day, hour, second)\n",
    "        return time.mktime(date_time.timetuple())\n",
    "\n",
    "    def human_time(unix_time):\n",
    "        return datetime.datetime.fromtimestamp(unix_time)\n",
    "    \n",
    "\n",
    "    # Getting input for specific coins/ dates\n",
    "    coin1 = input(\"What is the first coin you would like to compare\")\n",
    "    coin2 = input(\"What is the second coin you would like to compare\")\n",
    "    coin1 = coin1.lower()\n",
    "    coin2 = coin2.lower()\n",
    "    \n",
    "    start = input_start_date()\n",
    "    print(start)\n",
    "    end = input_end_date()\n",
    "    print(start)\n",
    "    \n",
    "    # Reading in specified dates from API\n",
    "    user_coin1 = client.get_coin_market_chart_range_by_id(\n",
    "    id = coin1,\n",
    "    vs_currency = 'usd',\n",
    "    from_timestamp=start,\n",
    "    to_timestamp=end)\n",
    "    \n",
    "    user_coin2 = client.get_coin_market_chart_range_by_id(\n",
    "    id = coin2,\n",
    "    vs_currency = 'usd',\n",
    "    from_timestamp=start,\n",
    "    to_timestamp=end)\n",
    "    \n",
    "    # Making dataframes from API\n",
    "    coin1_df = pd.DataFrame.from_dict(user_coin1)\n",
    "    coin2_df= pd.DataFrame.from_dict(user_coin2)\n",
    "    \n",
    "    # Cleaning Data\n",
    "    coin1_df['date'] = coin1_df['prices'][0][0]\n",
    "    coin1_df[['time', 'price']] = coin1_df['prices'].apply(lambda x: pd.Series([x[0], x[1]]))\n",
    "    coin1_df[['time2', 'market_cap']] = coin1_df['market_caps'].apply(lambda x: pd.Series([x[0], x[1]]))\n",
    "    coin1_df[['time3', 'total_volume']] = coin1_df['total_volumes'].apply(lambda x: pd.Series([x[0], x[1]]))\n",
    "    \n",
    "    coin1_df.drop('prices', axis=1, inplace=True)\n",
    "    coin1_df.drop('market_caps', axis=1, inplace=True)\n",
    "    coin1_df.drop('total_volumes', axis=1, inplace=True)\n",
    "    coin1_df.drop('date', axis=1, inplace=True)\n",
    "    coin1_df.drop('time2', axis=1, inplace=True)\n",
    "    coin1_df.drop('time3', axis=1, inplace=True)\n",
    "    \n",
    "    \n",
    "    coin2_df['date'] = coin2_df['prices'][0][0]\n",
    "    coin2_df[['time', 'price']] = coin2_df['prices'].apply(lambda x: pd.Series([x[0], x[1]]))\n",
    "    coin2_df[['time2', 'market_cap']] = coin2_df['market_caps'].apply(lambda x: pd.Series([x[0], x[1]]))\n",
    "    coin2_df[['time3', 'total_volume']] = coin2_df['total_volumes'].apply(lambda x: pd.Series([x[0], x[1]]))\n",
    "    \n",
    "    coin2_df.drop('prices', axis=1, inplace=True)\n",
    "    coin2_df.drop('market_caps', axis=1, inplace=True)\n",
    "    coin2_df.drop('total_volumes', axis=1, inplace=True)\n",
    "    coin2_df.drop('date', axis=1, inplace=True)\n",
    "    coin2_df.drop('time2', axis=1, inplace=True)\n",
    "    coin2_df.drop('time3', axis=1, inplace=True)\n",
    "    \n",
    "    coin1_df['time'] = pd.to_datetime(coin1_df['time'], unit='ms')\n",
    "    coin2_df['time'] = pd.to_datetime(coin2_df['time'], unit='ms')\n",
    "    \n",
    "    print(coin1_df)\n",
    "    print(coin2_df)"
   ]
  },
  {
   "cell_type": "code",
   "execution_count": 4,
   "id": "1676dc14-86d9-46bd-8cb3-416da6218a6b",
   "metadata": {},
   "outputs": [
    {
     "name": "stdin",
     "output_type": "stream",
     "text": [
      "What is the first coin you would like to compare bitcoin\n",
      "What is the second coin you would like to compare dogecoin\n",
      "What is the year of the starting date you wish to analyze? 2018\n",
      "What is the month of the starting date you wish to analyze? 2\n",
      "What is the day of the starting date you wish to analyze? 2\n"
     ]
    },
    {
     "name": "stdout",
     "output_type": "stream",
     "text": [
      "1517551200.0\n",
      "1517551200.0\n"
     ]
    },
    {
     "name": "stdin",
     "output_type": "stream",
     "text": [
      "What is the year of the starting date you wish to analyze? 2019\n",
      "What is the day of the starting date you wish to analyze? 3\n",
      "What is the year of the starting date you wish to analyze? 1\n"
     ]
    },
    {
     "name": "stdout",
     "output_type": "stream",
     "text": [
      "1551420000.0\n",
      "1517551200.0\n",
      "          time        price    market_cap  total_volume\n",
      "0   2018-02-03  8830.163510  1.487152e+11  6.813550e+09\n",
      "1   2018-02-04  8994.914866  1.515073e+11  3.422042e+09\n",
      "2   2018-02-05  8315.517491  1.400815e+11  3.337096e+09\n",
      "3   2018-02-06  6852.052701  1.154448e+11  5.313589e+09\n",
      "4   2018-02-07  7711.220329  1.299369e+11  9.152685e+09\n",
      "..         ...          ...           ...           ...\n",
      "387 2019-02-25  3742.868947  6.610859e+10  1.111247e+10\n",
      "388 2019-02-26  3824.683504  6.715460e+10  9.049457e+09\n",
      "389 2019-02-27  3809.209775  6.689049e+10  2.992668e+09\n",
      "390 2019-02-28  3813.377892  6.715591e+10  7.731184e+09\n",
      "391 2019-03-01  3815.607608  6.701666e+10  7.627783e+09\n",
      "\n",
      "[392 rows x 4 columns]\n",
      "          time     price    market_cap  total_volume\n",
      "0   2018-02-03  0.004425  5.001272e+08  2.372859e+07\n",
      "1   2018-02-04  0.005071  5.732401e+08  1.543166e+07\n",
      "2   2018-02-05  0.004400  4.974411e+08  9.786740e+06\n",
      "3   2018-02-06  0.003461  3.913777e+08  8.811903e+06\n",
      "4   2018-02-07  0.004318  4.883758e+08  1.605124e+07\n",
      "..         ...       ...           ...           ...\n",
      "387 2019-02-25  0.001931  2.292679e+08  3.062295e+07\n",
      "388 2019-02-26  0.002002  2.371303e+08  2.871237e+07\n",
      "389 2019-02-27  0.001994  2.361661e+08  2.573527e+07\n",
      "390 2019-02-28  0.001980  2.367061e+08  4.028583e+07\n",
      "391 2019-03-01  0.001938  2.295565e+08  3.904163e+07\n",
      "\n",
      "[392 rows x 4 columns]\n"
     ]
    }
   ],
   "source": [
    "main()"
   ]
  },
  {
   "cell_type": "code",
   "execution_count": null,
   "id": "61e9239e-58a3-4801-a02e-be45568fdcd2",
   "metadata": {},
   "outputs": [],
   "source": []
  }
 ],
 "metadata": {
  "kernelspec": {
   "display_name": "Python 3 (ipykernel)",
   "language": "python",
   "name": "python3"
  },
  "language_info": {
   "codemirror_mode": {
    "name": "ipython",
    "version": 3
   },
   "file_extension": ".py",
   "mimetype": "text/x-python",
   "name": "python",
   "nbconvert_exporter": "python",
   "pygments_lexer": "ipython3",
   "version": "3.7.13"
  }
 },
 "nbformat": 4,
 "nbformat_minor": 5
}
