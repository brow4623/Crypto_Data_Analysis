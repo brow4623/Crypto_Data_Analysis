{
 "cells": [
  {
   "cell_type": "code",
   "execution_count": 9,
   "id": "bdd0c4d8-4952-421b-9148-5c05c76a81b6",
   "metadata": {},
   "outputs": [
    {
     "data": {
      "text/plain": [
       "{'gecko_says': '(V3) To the Moon!'}"
      ]
     },
     "execution_count": 9,
     "metadata": {},
     "output_type": "execute_result"
    }
   ],
   "source": [
    "# Imports\n",
    "from pycoingecko import CoinGeckoAPI\n",
    "import pandas as pd\n",
    "import datetime\n",
    "import time\n",
    "# initilize client\n",
    "client = CoinGeckoAPI()\n",
    "client.ping()"
   ]
  },
  {
   "cell_type": "code",
   "execution_count": 12,
   "id": "5ebf3b8e-d14a-4a4b-9665-8acfa18b7363",
   "metadata": {},
   "outputs": [],
   "source": [
    "def main():\n",
    "    # Helper Functions\n",
    "    def unix_time(year, month, day, hour, second):\n",
    "        date_time = datetime.datetime(year, month, day, hour, second)\n",
    "        return time.mktime(date_time.timetuple())\n",
    "\n",
    "    def human_time(unix_time):\n",
    "        return datetime.datetime.fromtimestamp(unix_time)\n",
    "    \n",
    "    start = unix_time(2018, 1, 1, 0, 0)\n",
    "    end = unix_time(2023, 1, 1, 0, 0)\n",
    "    \n",
    "    # Getting input for specific coins/ dates\n",
    "    coin1 = input(\"What is the first coin you would like to compare\")\n",
    "    coin2 = input(\"What is the second coin you would like to compare\")\n",
    "    coin1 = coin1.lower()\n",
    "    coin2 = coin2.lower()\n",
    "    \n",
    "    # Reading in specified dates from API\n",
    "    user_coin1 = client.get_coin_market_chart_range_by_id(\n",
    "    id = coin1,\n",
    "    vs_currency = 'usd',\n",
    "    from_timestamp=start,\n",
    "    to_timestamp=end)\n",
    "    \n",
    "    user_coin2 = client.get_coin_market_chart_range_by_id(\n",
    "    id = coin2,\n",
    "    vs_currency = 'usd',\n",
    "    from_timestamp=start,\n",
    "    to_timestamp=end)\n",
    "    \n",
    "    # Making dataframes from API\n",
    "    coin1_df = pd.DataFrame.from_dict(user_coin1)\n",
    "    coin2_df= pd.DataFrame.from_dict(user_coin2)\n",
    "    \n",
    "    # Cleaning Data\n",
    "    coin1_df['date'] = coin1_df['prices'][0][0]\n",
    "    coin1_df[['time', 'price']] = coin1_df['prices'].apply(lambda x: pd.Series([x[0], x[1]]))\n",
    "    coin1_df[['time2', 'market_cap']] = coin1_df['market_caps'].apply(lambda x: pd.Series([x[0], x[1]]))\n",
    "    coin1_df[['time3', 'total_volume']] = coin1_df['total_volumes'].apply(lambda x: pd.Series([x[0], x[1]]))\n",
    "    \n",
    "    coin1_df.drop('prices', axis=1, inplace=True)\n",
    "    coin1_df.drop('market_caps', axis=1, inplace=True)\n",
    "    coin1_df.drop('total_volumes', axis=1, inplace=True)\n",
    "    coin1_df.drop('time', axis=1, inplace=True)\n",
    "    coin1_df.drop('time2', axis=1, inplace=True)\n",
    "    coin1_df.drop('time3', axis=1, inplace=True)\n",
    "    \n",
    "    coin1_df['date'] = pd.to_datetime(coin1_df['date'], unit='ms')\n",
    "    \n",
    "    print(coin1_df)"
   ]
  },
  {
   "cell_type": "code",
   "execution_count": null,
   "id": "ee2f63ec-3035-4a0f-a56e-241b76fd6679",
   "metadata": {},
   "outputs": [],
   "source": [
    "main()"
   ]
  },
  {
   "cell_type": "code",
   "execution_count": null,
   "id": "f00db376-3485-46db-b092-15a5d516788d",
   "metadata": {},
   "outputs": [],
   "source": []
  }
 ],
 "metadata": {
  "kernelspec": {
   "display_name": "Python 3 (ipykernel)",
   "language": "python",
   "name": "python3"
  },
  "language_info": {
   "codemirror_mode": {
    "name": "ipython",
    "version": 3
   },
   "file_extension": ".py",
   "mimetype": "text/x-python",
   "name": "python",
   "nbconvert_exporter": "python",
   "pygments_lexer": "ipython3",
   "version": "3.7.15"
  }
 },
 "nbformat": 4,
 "nbformat_minor": 5
}
